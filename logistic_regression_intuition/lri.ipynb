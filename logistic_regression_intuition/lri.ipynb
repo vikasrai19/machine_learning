{
 "cells": [
  {
   "cell_type": "code",
   "execution_count": 19,
   "source": [
    "import numpy as np\n",
    "import matplotlib.pyplot as plt\n",
    "import pandas as pd"
   ],
   "outputs": [],
   "metadata": {}
  },
  {
   "cell_type": "code",
   "execution_count": 20,
   "source": [
    "dataset = pd.read_csv(\"Social_Network_Ads.csv\")\n",
    "X = dataset.iloc[:, :-1].values\n",
    "y = dataset.iloc[:, -1].values"
   ],
   "outputs": [],
   "metadata": {}
  },
  {
   "cell_type": "code",
   "execution_count": 21,
   "source": [
    "# Splitting the dataset into training set and test set\n",
    "from sklearn.model_selection import train_test_split\n",
    "X_train, X_test, y_train, y_test = train_test_split(X, y,test_size=0.25, random_state=0)"
   ],
   "outputs": [],
   "metadata": {}
  },
  {
   "cell_type": "code",
   "execution_count": 27,
   "source": [
    "print(X_test)"
   ],
   "outputs": [
    {
     "output_type": "stream",
     "name": "stdout",
     "text": [
      "[[-0.54748976  0.5130727 ]\n",
      " [ 0.15442019 -0.61825566]\n",
      " [-0.10879604  0.14615539]\n",
      " [-0.54748976  0.26846116]\n",
      " [-0.10879604 -0.61825566]\n",
      " [-0.81070599 -1.53554892]\n",
      " [-0.45975102 -1.68843113]\n",
      " [-0.0210573   2.25592989]\n",
      " [-1.60035469 -0.0678797 ]\n",
      " [ 0.94406888 -0.83229075]\n",
      " [-0.54748976 -0.6488321 ]\n",
      " [-0.72296725 -0.46537345]\n",
      " [ 0.06668145 -0.46537345]\n",
      " [ 0.24215893  0.20730828]\n",
      " [-1.4248772   0.48249625]\n",
      " [-0.37201227  1.43036596]\n",
      " [ 0.06668145  0.20730828]\n",
      " [-1.51261594  0.45191981]\n",
      " [ 1.64597884  1.8278597 ]\n",
      " [-0.10879604 -1.47439603]\n",
      " [-0.10879604 -0.70998498]\n",
      " [ 0.94406888  2.25592989]\n",
      " [ 0.41763642 -0.58767922]\n",
      " [ 0.94406888  1.06344865]\n",
      " [-1.16166097 -1.29093738]\n",
      " [ 1.11954637  2.16420057]\n",
      " [-0.72296725  0.5130727 ]\n",
      " [-0.63522851  0.2990376 ]\n",
      " [ 0.06668145 -0.25133835]\n",
      " [-0.37201227  0.48249625]\n",
      " [-1.33713846  0.54364914]\n",
      " [ 0.06668145  0.26846116]\n",
      " [ 1.82145632 -0.31249124]\n",
      " [ 0.06668145 -0.52652633]\n",
      " [-1.07392223 -0.37364412]\n",
      " [-1.60035469 -0.55710277]\n",
      " [-1.24939971  0.32961404]\n",
      " [-0.19653479 -0.83229075]\n",
      " [-0.45975102 -1.10747873]\n",
      " [ 1.11954637 -1.04632585]\n",
      " [-0.81070599  0.54364914]\n",
      " [ 0.41763642 -0.55710277]\n",
      " [-0.81070599  0.42134337]\n",
      " [-0.10879604 -1.53554892]\n",
      " [ 0.59311391  1.27748375]\n",
      " [-0.81070599 -0.37364412]\n",
      " [ 0.06668145  0.2990376 ]\n",
      " [ 1.3827626   0.60480202]\n",
      " [-0.89844474 -1.2297845 ]\n",
      " [ 1.11954637  0.48249625]\n",
      " [ 1.82145632  1.58324817]\n",
      " [-0.19653479 -1.38266671]\n",
      " [-0.10879604 -0.40422056]\n",
      " [-0.19653479  1.36921307]\n",
      " [ 1.99693381  0.54364914]\n",
      " [ 0.7685914  -1.16863161]\n",
      " [-0.63522851  0.39076693]\n",
      " [-0.89844474  0.2990376 ]\n",
      " [ 1.11954637 -1.29093738]\n",
      " [-1.16166097 -1.53554892]\n",
      " [-0.37201227 -1.5967018 ]\n",
      " [ 2.08467255 -0.86286719]\n",
      " [-1.51261594  0.17673183]\n",
      " [-0.0210573   0.87999   ]\n",
      " [-1.51261594 -1.35209027]\n",
      " [ 2.08467255  0.39076693]\n",
      " [-1.07392223  0.57422558]\n",
      " [-0.81070599 -0.37364412]\n",
      " [ 0.32989768 -0.70998498]\n",
      " [ 0.50537516 -0.00672682]\n",
      " [-0.37201227  2.43938854]\n",
      " [-0.10879604  0.20730828]\n",
      " [-1.24939971 -0.22076191]\n",
      " [ 0.7685914  -1.47439603]\n",
      " [-0.81070599  0.57422558]\n",
      " [-1.60035469  0.36019049]\n",
      " [ 0.50537516  0.26846116]\n",
      " [ 0.32989768 -0.31249124]\n",
      " [ 1.47050135 -1.10747873]\n",
      " [ 0.94406888  1.12460154]\n",
      " [ 1.90919507  2.25592989]\n",
      " [ 1.99693381  0.39076693]\n",
      " [-1.07392223 -0.46537345]\n",
      " [-0.89844474 -1.07690229]\n",
      " [ 1.90919507 -0.98517296]\n",
      " [ 0.50537516  0.2990376 ]\n",
      " [ 0.32989768  0.14615539]\n",
      " [ 1.99693381  1.8278597 ]\n",
      " [ 0.85633014 -0.89344364]\n",
      " [ 0.41763642 -0.31249124]\n",
      " [ 0.50537516 -0.19018547]\n",
      " [ 0.06668145  2.31708278]\n",
      " [-1.16166097 -0.67940854]\n",
      " [-0.98618348 -1.13805517]\n",
      " [-1.07392223  0.42134337]\n",
      " [-0.81070599  0.78826068]\n",
      " [-1.16166097 -0.22076191]\n",
      " [ 1.03180763 -1.13805517]\n",
      " [ 1.03180763  0.60480202]\n",
      " [ 0.50537516  1.03287221]]\n"
     ]
    }
   ],
   "metadata": {}
  },
  {
   "cell_type": "code",
   "execution_count": 28,
   "source": [
    "# Feature Scaling\n",
    "from sklearn.preprocessing import StandardScaler\n",
    "sc = StandardScaler()\n",
    "X_train = sc.fit_transform(X_train)\n",
    "X_test = sc.fit_transform(X_test)"
   ],
   "outputs": [],
   "metadata": {}
  },
  {
   "cell_type": "code",
   "execution_count": 31,
   "source": [
    "# Traingin Logistic Regression Model on the training set\n",
    "from sklearn.linear_model import LogisticRegression\n",
    "classifier = LogisticRegression(random_state=0)\n",
    "classifier.fit(X_train, y_train)"
   ],
   "outputs": [
    {
     "output_type": "execute_result",
     "data": {
      "text/plain": [
       "LogisticRegression(random_state=0)"
      ]
     },
     "metadata": {},
     "execution_count": 31
    }
   ],
   "metadata": {}
  },
  {
   "cell_type": "code",
   "execution_count": 32,
   "source": [
    "# Predicting new results\n",
    "classifier.predict(sc.transform([[30, 87000]]))"
   ],
   "outputs": [
    {
     "output_type": "execute_result",
     "data": {
      "text/plain": [
       "array([1])"
      ]
     },
     "metadata": {},
     "execution_count": 32
    }
   ],
   "metadata": {}
  },
  {
   "cell_type": "code",
   "execution_count": 35,
   "source": [
    "# Predicting the test set results\n",
    "y_pred = classifier.predict(sc.transform(X_test))\n",
    "np.concatenate((y_pred.reshape(len(y_pred), 1), y_test.reshape(len(y_test), 1)), 1)"
   ],
   "outputs": [
    {
     "output_type": "execute_result",
     "data": {
      "text/plain": [
       "array([[0, 0],\n",
       "       [0, 0],\n",
       "       [0, 0],\n",
       "       [0, 0],\n",
       "       [0, 0],\n",
       "       [0, 0],\n",
       "       [0, 0],\n",
       "       [1, 1],\n",
       "       [0, 0],\n",
       "       [1, 0],\n",
       "       [0, 0],\n",
       "       [0, 0],\n",
       "       [0, 0],\n",
       "       [0, 0],\n",
       "       [0, 0],\n",
       "       [0, 0],\n",
       "       [0, 0],\n",
       "       [0, 0],\n",
       "       [1, 1],\n",
       "       [0, 0],\n",
       "       [0, 0],\n",
       "       [1, 1],\n",
       "       [0, 0],\n",
       "       [1, 1],\n",
       "       [0, 0],\n",
       "       [1, 1],\n",
       "       [0, 0],\n",
       "       [0, 0],\n",
       "       [0, 0],\n",
       "       [0, 0],\n",
       "       [0, 0],\n",
       "       [0, 1],\n",
       "       [1, 1],\n",
       "       [0, 0],\n",
       "       [0, 0],\n",
       "       [0, 0],\n",
       "       [0, 0],\n",
       "       [0, 0],\n",
       "       [0, 0],\n",
       "       [1, 1],\n",
       "       [0, 0],\n",
       "       [0, 0],\n",
       "       [0, 0],\n",
       "       [0, 0],\n",
       "       [1, 1],\n",
       "       [0, 0],\n",
       "       [0, 0],\n",
       "       [1, 1],\n",
       "       [0, 0],\n",
       "       [1, 1],\n",
       "       [1, 1],\n",
       "       [0, 0],\n",
       "       [0, 0],\n",
       "       [1, 0],\n",
       "       [1, 1],\n",
       "       [0, 1],\n",
       "       [0, 0],\n",
       "       [0, 0],\n",
       "       [0, 1],\n",
       "       [0, 0],\n",
       "       [0, 0],\n",
       "       [1, 1],\n",
       "       [0, 0],\n",
       "       [0, 1],\n",
       "       [0, 0],\n",
       "       [1, 1],\n",
       "       [0, 0],\n",
       "       [0, 0],\n",
       "       [0, 0],\n",
       "       [1, 0],\n",
       "       [1, 1],\n",
       "       [0, 0],\n",
       "       [0, 0],\n",
       "       [0, 1],\n",
       "       [0, 0],\n",
       "       [0, 0],\n",
       "       [1, 0],\n",
       "       [0, 0],\n",
       "       [1, 1],\n",
       "       [1, 1],\n",
       "       [1, 1],\n",
       "       [1, 0],\n",
       "       [0, 0],\n",
       "       [0, 0],\n",
       "       [1, 1],\n",
       "       [1, 1],\n",
       "       [0, 0],\n",
       "       [1, 1],\n",
       "       [0, 1],\n",
       "       [0, 0],\n",
       "       [0, 0],\n",
       "       [1, 1],\n",
       "       [0, 0],\n",
       "       [0, 0],\n",
       "       [0, 0],\n",
       "       [0, 1],\n",
       "       [0, 0],\n",
       "       [0, 1],\n",
       "       [1, 1],\n",
       "       [1, 1]])"
      ]
     },
     "metadata": {},
     "execution_count": 35
    }
   ],
   "metadata": {}
  },
  {
   "cell_type": "code",
   "execution_count": 36,
   "source": [
    "# Making the Confusion Matrix\n",
    "from sklearn.metrics import confusion_matrix\n",
    "cm = confusion_matrix(y_test, y_pred)\n",
    "print(cm)"
   ],
   "outputs": [
    {
     "output_type": "execute_result",
     "data": {
      "text/plain": [
       "array([[63,  5],\n",
       "       [ 8, 24]])"
      ]
     },
     "metadata": {},
     "execution_count": 36
    }
   ],
   "metadata": {}
  }
 ],
 "metadata": {
  "orig_nbformat": 4,
  "language_info": {
   "name": "python",
   "version": "3.6.9",
   "mimetype": "text/x-python",
   "codemirror_mode": {
    "name": "ipython",
    "version": 3
   },
   "pygments_lexer": "ipython3",
   "nbconvert_exporter": "python",
   "file_extension": ".py"
  },
  "kernelspec": {
   "name": "python3",
   "display_name": "Python 3.6.9 64-bit"
  },
  "interpreter": {
   "hash": "31f2aee4e71d21fbe5cf8b01ff0e069b9275f58929596ceb00d14d90e3e16cd6"
  }
 },
 "nbformat": 4,
 "nbformat_minor": 2
}